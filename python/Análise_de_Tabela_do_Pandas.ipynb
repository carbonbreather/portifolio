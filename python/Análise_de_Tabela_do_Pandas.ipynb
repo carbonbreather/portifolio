{
  "nbformat": 4,
  "nbformat_minor": 0,
  "metadata": {
    "colab": {
      "provenance": []
    },
    "kernelspec": {
      "name": "python3",
      "display_name": "Python 3"
    },
    "language_info": {
      "name": "python"
    }
  },
  "cells": [
    {
      "cell_type": "code",
      "execution_count": 1,
      "metadata": {
        "id": "FaIVmgSF40Sx"
      },
      "outputs": [],
      "source": [
        "import pandas as pd\n"
      ]
    },
    {
      "cell_type": "code",
      "source": [
        "from google.colab import drive\n",
        "drive.mount('/content/drive')"
      ],
      "metadata": {
        "colab": {
          "base_uri": "https://localhost:8080/"
        },
        "id": "2lFTjnCI7GV9",
        "outputId": "a70af5b3-3a38-4d56-fd31-74d19e707630"
      },
      "execution_count": 2,
      "outputs": [
        {
          "output_type": "stream",
          "name": "stdout",
          "text": [
            "Drive already mounted at /content/drive; to attempt to forcibly remount, call drive.mount(\"/content/drive\", force_remount=True).\n"
          ]
        }
      ]
    },
    {
      "cell_type": "code",
      "source": [
        "df = pd.read_csv('/content/drive/MyDrive/paitodasilva/flights.csv')\n"
      ],
      "metadata": {
        "id": "ByTBHYVa7upn"
      },
      "execution_count": 3,
      "outputs": []
    },
    {
      "cell_type": "code",
      "source": [
        "print(\"Primeiras 5 linhas:\")\n",
        "print(df.head())\n",
        "\n",
        "print(\"\\nÚltimas 5 linhas:\")\n",
        "print(df.tail())"
      ],
      "metadata": {
        "colab": {
          "base_uri": "https://localhost:8080/"
        },
        "id": "FzumKVJn8MA7",
        "outputId": "39ae63ff-7203-449f-9efb-2e89f5f65d86"
      },
      "execution_count": 4,
      "outputs": [
        {
          "output_type": "stream",
          "name": "stdout",
          "text": [
            "Primeiras 5 linhas:\n",
            "   flight_id airline aircraft_type      schengen origin  arrival_time  \\\n",
            "0         26      MM   Airbus A320  non-schengen    TCY      8.885071   \n",
            "1         10      YE   Airbus A320  non-schengen    TCY      8.939996   \n",
            "2          3      BZ  Embraer E175      schengen    TZF     18.635384   \n",
            "3         28      BZ   Airbus A330  non-schengen    EMM     15.967963   \n",
            "4         15      BZ   Airbus A330  non-schengen    FJB     16.571894   \n",
            "\n",
            "   departure_time  day  year  is_holiday      delay  \n",
            "0       10.885071    0  2010       False  70.205981  \n",
            "1       11.939996    0  2010       False  38.484609  \n",
            "2       22.635384    0  2010       False   2.388305  \n",
            "3       17.967963    0  2010       False  19.138491  \n",
            "4       19.571894    0  2010       False  15.016271  \n",
            "\n",
            "Últimas 5 linhas:\n",
            "       flight_id airline aircraft_type      schengen origin  arrival_time  \\\n",
            "71170          3      BZ  Embraer E175      schengen    TZF     18.635384   \n",
            "71171         17      BZ   Airbus A330  non-schengen    CNU     16.718722   \n",
            "71172          7      MM    Boeing 787      schengen    TZF      8.564949   \n",
            "71173          5      BZ   Airbus A320      schengen    ZQO      9.344097   \n",
            "71174         29      BZ    Boeing 737      schengen    ZQO      8.591208   \n",
            "\n",
            "       departure_time  day  year  is_holiday      delay  \n",
            "71170       22.635384  364  2022        True  25.677277  \n",
            "71171       21.718722  364  2022        True  52.624348  \n",
            "71172       13.564949  364  2022        True  56.167080  \n",
            "71173       12.344097  364  2022        True  56.758844  \n",
            "71174       11.591208  364  2022        True  41.401648  \n"
          ]
        }
      ]
    },
    {
      "cell_type": "code",
      "source": [
        "print(\"Dimensão da tabela (linhas, colunas):\", df.shape)\n"
      ],
      "metadata": {
        "colab": {
          "base_uri": "https://localhost:8080/"
        },
        "id": "M4kUerW98b9I",
        "outputId": "bbd2f044-50e9-4adc-a11d-607427c6c027"
      },
      "execution_count": 5,
      "outputs": [
        {
          "output_type": "stream",
          "name": "stdout",
          "text": [
            "Dimensão da tabela (linhas, colunas): (71175, 11)\n"
          ]
        }
      ]
    },
    {
      "cell_type": "code",
      "source": [
        "print(\"Estatísticas numéricas:\")\n",
        "print(df.describe())\n",
        "\n",
        "print(\"\\nEstatísticas de colunas categóricas:\")\n",
        "print(df.describe(include='O'))\n"
      ],
      "metadata": {
        "colab": {
          "base_uri": "https://localhost:8080/"
        },
        "id": "wDNcKqtj8gyF",
        "outputId": "8543a261-3cd0-4f27-d5aa-808d243ceb63"
      },
      "execution_count": 6,
      "outputs": [
        {
          "output_type": "stream",
          "name": "stdout",
          "text": [
            "Estatísticas numéricas:\n",
            "          flight_id  arrival_time  departure_time           day          year  \\\n",
            "count  71175.000000  71175.000000    71175.000000  71175.000000  71175.000000   \n",
            "mean      15.465135     13.283159       16.480222    182.000000   2016.000000   \n",
            "std        8.649646      4.023380        4.143705    105.366769      3.741684   \n",
            "min        1.000000      7.065594       10.065594      0.000000   2010.000000   \n",
            "25%        8.000000      8.939996       12.668655     91.000000   2013.000000   \n",
            "50%       15.000000     14.258911       16.376052    182.000000   2016.000000   \n",
            "75%       23.000000     16.909690       20.041281    273.000000   2019.000000   \n",
            "max       30.000000     19.341235       23.341235    364.000000   2022.000000   \n",
            "\n",
            "              delay  \n",
            "count  71175.000000  \n",
            "mean      12.548378  \n",
            "std       23.125349  \n",
            "min      -41.028033  \n",
            "25%       -4.412876  \n",
            "50%        9.740454  \n",
            "75%       27.650853  \n",
            "max      125.632352  \n",
            "\n",
            "Estatísticas de colunas categóricas:\n",
            "       airline aircraft_type  schengen origin\n",
            "count    71175         71175     71175  71175\n",
            "unique       3             6         2     10\n",
            "top         BZ   Airbus A320  schengen    TZF\n",
            "freq     47598         30778     42569  14162\n"
          ]
        }
      ]
    },
    {
      "cell_type": "code",
      "source": [
        "df.info()"
      ],
      "metadata": {
        "colab": {
          "base_uri": "https://localhost:8080/"
        },
        "id": "QzGQnapC84VW",
        "outputId": "70828e59-fd03-4d55-b084-d69e57eeb930"
      },
      "execution_count": 7,
      "outputs": [
        {
          "output_type": "stream",
          "name": "stdout",
          "text": [
            "<class 'pandas.core.frame.DataFrame'>\n",
            "RangeIndex: 71175 entries, 0 to 71174\n",
            "Data columns (total 11 columns):\n",
            " #   Column          Non-Null Count  Dtype  \n",
            "---  ------          --------------  -----  \n",
            " 0   flight_id       71175 non-null  int64  \n",
            " 1   airline         71175 non-null  object \n",
            " 2   aircraft_type   71175 non-null  object \n",
            " 3   schengen        71175 non-null  object \n",
            " 4   origin          71175 non-null  object \n",
            " 5   arrival_time    71175 non-null  float64\n",
            " 6   departure_time  71175 non-null  float64\n",
            " 7   day             71175 non-null  int64  \n",
            " 8   year            71175 non-null  int64  \n",
            " 9   is_holiday      71175 non-null  bool   \n",
            " 10  delay           71175 non-null  float64\n",
            "dtypes: bool(1), float64(3), int64(3), object(4)\n",
            "memory usage: 5.5+ MB\n"
          ]
        }
      ]
    },
    {
      "cell_type": "code",
      "source": [
        "media_atraso = df['delay'].mean()\n",
        "print(\"\\nMédia de atraso:\", media_atraso)\n",
        "\n",
        "maior_atraso = df['delay'].max()\n",
        "print(\"Maior atraso:\", maior_atraso)\n",
        "\n",
        "menor_atraso = df['delay'].min()\n",
        "print(\"Menor atraso:\", menor_atraso)\n",
        "\n"
      ],
      "metadata": {
        "colab": {
          "base_uri": "https://localhost:8080/"
        },
        "id": "LNUHS3d98_jw",
        "outputId": "1bc6f8f2-2a6e-4dbb-dabd-b1b352f922b5"
      },
      "execution_count": 8,
      "outputs": [
        {
          "output_type": "stream",
          "name": "stdout",
          "text": [
            "\n",
            "Média de atraso: 12.548378015698628\n",
            "Maior atraso: 125.63235207172622\n",
            "Menor atraso: -41.0280332484786\n"
          ]
        }
      ]
    },
    {
      "cell_type": "code",
      "source": [
        "print(\"\\nTop 5 companhias com maior média de atraso:\")\n",
        "print(df.groupby('airline')['delay'].mean().sort_values(ascending=False).head(5))\n",
        "\n",
        "print(\"\\nMédia de atraso por tipo de aeronave:\")\n",
        "print(df.groupby('aircraft_type')['delay'].mean().sort_values(ascending=False))\n",
        "\n",
        "print(\"\\nMédia de atraso em dias normais vs feriados:\")\n",
        "print(df.groupby('is_holiday')['delay'].mean())\n"
      ],
      "metadata": {
        "colab": {
          "base_uri": "https://localhost:8080/"
        },
        "id": "Fh5t8mvP9Ifc",
        "outputId": "9667e799-5144-4312-a9fe-50373b1734fc"
      },
      "execution_count": 9,
      "outputs": [
        {
          "output_type": "stream",
          "name": "stdout",
          "text": [
            "\n",
            "Top 5 companhias com maior média de atraso:\n",
            "airline\n",
            "MM    40.498007\n",
            "YE    25.772248\n",
            "BZ     3.077595\n",
            "Name: delay, dtype: float64\n",
            "\n",
            "Média de atraso por tipo de aeronave:\n",
            "aircraft_type\n",
            "Airbus A320     21.502073\n",
            "Boeing 737      17.095527\n",
            "Boeing 777      16.497808\n",
            "Boeing 787      13.064888\n",
            "Embraer E175     1.211898\n",
            "Airbus A330     -1.303823\n",
            "Name: delay, dtype: float64\n",
            "\n",
            "Média de atraso em dias normais vs feriados:\n",
            "is_holiday\n",
            "False    10.835677\n",
            "True     42.092465\n",
            "Name: delay, dtype: float64\n"
          ]
        }
      ]
    },
    {
      "cell_type": "code",
      "source": [],
      "metadata": {
        "id": "-CLydA-09cxi"
      },
      "execution_count": null,
      "outputs": []
    }
  ]
}